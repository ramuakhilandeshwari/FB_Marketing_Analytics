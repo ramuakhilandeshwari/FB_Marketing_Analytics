{
  "nbformat": 4,
  "nbformat_minor": 0,
  "metadata": {
    "colab": {
      "name": "Model_building_evaluation.ipynb",
      "provenance": [],
      "collapsed_sections": []
    },
    "kernelspec": {
      "name": "python3",
      "display_name": "Python 3"
    }
  },
  "cells": [
    {
      "cell_type": "markdown",
      "metadata": {
        "id": "CdN06n44lUOZ"
      },
      "source": [
        "<H2>\n",
        "<B>TOPIC    :</B> MODEL BUILDING AND EVALUATION <BR>\n",
        "<B><CENTER>MARKETING ANALYTICS</CENTER></B></H2>"
      ]
    },
    {
      "cell_type": "markdown",
      "metadata": {
        "id": "nGr_oN1IrbcS"
      },
      "source": [
        "##<b>Importing the packages</b>"
      ]
    },
    {
      "cell_type": "code",
      "metadata": {
        "id": "HyUDmyobl0kT"
      },
      "source": [
        "import pandas as pd\n",
        "import numpy as np\n",
        "import seaborn as sns\n",
        "import matplotlib.pyplot as plt\n",
        "from  scipy import stats\n",
        "plt.rc('figure',figsize=(20,10))\n",
        "\n",
        "#Splitting the data\n",
        "from sklearn.model_selection import train_test_split\n",
        "\n",
        "#Package for evaluating the model\n",
        "from sklearn.metrics import classification_report,confusion_matrix\n",
        "\n",
        "#KNeighborsClassifier model\n",
        "from sklearn.neighbors import KNeighborsClassifier\n",
        "\n",
        "#DecisionTreeClassifier model\n",
        "from sklearn.tree import DecisionTreeClassifier\n",
        "\n",
        "#RandomForestClassifier model\n",
        "from sklearn.ensemble import RandomForestClassifier"
      ],
      "execution_count": null,
      "outputs": []
    },
    {
      "cell_type": "markdown",
      "metadata": {
        "id": "yYxS_qUnq6ME"
      },
      "source": [
        "##<b>Load the data set</b>"
      ]
    },
    {
      "cell_type": "code",
      "metadata": {
        "colab": {
          "base_uri": "https://localhost:8080/",
          "height": 426
        },
        "id": "BINVWjknmUxD",
        "outputId": "b0549d9f-b594-42bf-d1e5-ef23e847066a"
      },
      "source": [
        "data= pd.read_csv('/content/pseudo_facebook.csv')\n",
        "data"
      ],
      "execution_count": null,
      "outputs": [
        {
          "output_type": "execute_result",
          "data": {
            "text/html": [
              "<div>\n",
              "<style scoped>\n",
              "    .dataframe tbody tr th:only-of-type {\n",
              "        vertical-align: middle;\n",
              "    }\n",
              "\n",
              "    .dataframe tbody tr th {\n",
              "        vertical-align: top;\n",
              "    }\n",
              "\n",
              "    .dataframe thead th {\n",
              "        text-align: right;\n",
              "    }\n",
              "</style>\n",
              "<table border=\"1\" class=\"dataframe\">\n",
              "  <thead>\n",
              "    <tr style=\"text-align: right;\">\n",
              "      <th></th>\n",
              "      <th>userid</th>\n",
              "      <th>age</th>\n",
              "      <th>dob_day</th>\n",
              "      <th>dob_year</th>\n",
              "      <th>dob_month</th>\n",
              "      <th>gender</th>\n",
              "      <th>tenure</th>\n",
              "      <th>friend_count</th>\n",
              "      <th>friendships_initiated</th>\n",
              "      <th>likes</th>\n",
              "      <th>likes_received</th>\n",
              "      <th>mobile_likes</th>\n",
              "      <th>mobile_likes_received</th>\n",
              "      <th>www_likes</th>\n",
              "      <th>www_likes_received</th>\n",
              "    </tr>\n",
              "  </thead>\n",
              "  <tbody>\n",
              "    <tr>\n",
              "      <th>0</th>\n",
              "      <td>2094382</td>\n",
              "      <td>14</td>\n",
              "      <td>19</td>\n",
              "      <td>1999</td>\n",
              "      <td>11.0</td>\n",
              "      <td>male</td>\n",
              "      <td>266.0</td>\n",
              "      <td>0.0</td>\n",
              "      <td>0.0</td>\n",
              "      <td>0.0</td>\n",
              "      <td>0.0</td>\n",
              "      <td>0.0</td>\n",
              "      <td>0.0</td>\n",
              "      <td>0.0</td>\n",
              "      <td>0.0</td>\n",
              "    </tr>\n",
              "    <tr>\n",
              "      <th>1</th>\n",
              "      <td>1192601</td>\n",
              "      <td>14</td>\n",
              "      <td>2</td>\n",
              "      <td>1999</td>\n",
              "      <td>11.0</td>\n",
              "      <td>female</td>\n",
              "      <td>6.0</td>\n",
              "      <td>0.0</td>\n",
              "      <td>0.0</td>\n",
              "      <td>0.0</td>\n",
              "      <td>0.0</td>\n",
              "      <td>0.0</td>\n",
              "      <td>0.0</td>\n",
              "      <td>0.0</td>\n",
              "      <td>0.0</td>\n",
              "    </tr>\n",
              "    <tr>\n",
              "      <th>2</th>\n",
              "      <td>2083884</td>\n",
              "      <td>14</td>\n",
              "      <td>16</td>\n",
              "      <td>1999</td>\n",
              "      <td>11.0</td>\n",
              "      <td>male</td>\n",
              "      <td>13.0</td>\n",
              "      <td>0.0</td>\n",
              "      <td>0.0</td>\n",
              "      <td>0.0</td>\n",
              "      <td>0.0</td>\n",
              "      <td>0.0</td>\n",
              "      <td>0.0</td>\n",
              "      <td>0.0</td>\n",
              "      <td>0.0</td>\n",
              "    </tr>\n",
              "    <tr>\n",
              "      <th>3</th>\n",
              "      <td>1203168</td>\n",
              "      <td>14</td>\n",
              "      <td>25</td>\n",
              "      <td>1999</td>\n",
              "      <td>12.0</td>\n",
              "      <td>female</td>\n",
              "      <td>93.0</td>\n",
              "      <td>0.0</td>\n",
              "      <td>0.0</td>\n",
              "      <td>0.0</td>\n",
              "      <td>0.0</td>\n",
              "      <td>0.0</td>\n",
              "      <td>0.0</td>\n",
              "      <td>0.0</td>\n",
              "      <td>0.0</td>\n",
              "    </tr>\n",
              "    <tr>\n",
              "      <th>4</th>\n",
              "      <td>1733186</td>\n",
              "      <td>14</td>\n",
              "      <td>4</td>\n",
              "      <td>1999</td>\n",
              "      <td>12.0</td>\n",
              "      <td>male</td>\n",
              "      <td>82.0</td>\n",
              "      <td>0.0</td>\n",
              "      <td>0.0</td>\n",
              "      <td>0.0</td>\n",
              "      <td>0.0</td>\n",
              "      <td>0.0</td>\n",
              "      <td>0.0</td>\n",
              "      <td>0.0</td>\n",
              "      <td>0.0</td>\n",
              "    </tr>\n",
              "    <tr>\n",
              "      <th>...</th>\n",
              "      <td>...</td>\n",
              "      <td>...</td>\n",
              "      <td>...</td>\n",
              "      <td>...</td>\n",
              "      <td>...</td>\n",
              "      <td>...</td>\n",
              "      <td>...</td>\n",
              "      <td>...</td>\n",
              "      <td>...</td>\n",
              "      <td>...</td>\n",
              "      <td>...</td>\n",
              "      <td>...</td>\n",
              "      <td>...</td>\n",
              "      <td>...</td>\n",
              "      <td>...</td>\n",
              "    </tr>\n",
              "    <tr>\n",
              "      <th>21811</th>\n",
              "      <td>1784698</td>\n",
              "      <td>50</td>\n",
              "      <td>16</td>\n",
              "      <td>1963</td>\n",
              "      <td>9.0</td>\n",
              "      <td>female</td>\n",
              "      <td>508.0</td>\n",
              "      <td>27.0</td>\n",
              "      <td>19.0</td>\n",
              "      <td>3.0</td>\n",
              "      <td>0.0</td>\n",
              "      <td>3.0</td>\n",
              "      <td>0.0</td>\n",
              "      <td>0.0</td>\n",
              "      <td>0.0</td>\n",
              "    </tr>\n",
              "    <tr>\n",
              "      <th>21812</th>\n",
              "      <td>1980139</td>\n",
              "      <td>61</td>\n",
              "      <td>21</td>\n",
              "      <td>1952</td>\n",
              "      <td>2.0</td>\n",
              "      <td>male</td>\n",
              "      <td>1735.0</td>\n",
              "      <td>27.0</td>\n",
              "      <td>10.0</td>\n",
              "      <td>3.0</td>\n",
              "      <td>0.0</td>\n",
              "      <td>3.0</td>\n",
              "      <td>0.0</td>\n",
              "      <td>0.0</td>\n",
              "      <td>0.0</td>\n",
              "    </tr>\n",
              "    <tr>\n",
              "      <th>21813</th>\n",
              "      <td>1728067</td>\n",
              "      <td>67</td>\n",
              "      <td>10</td>\n",
              "      <td>1946</td>\n",
              "      <td>8.0</td>\n",
              "      <td>male</td>\n",
              "      <td>487.0</td>\n",
              "      <td>26.0</td>\n",
              "      <td>19.0</td>\n",
              "      <td>3.0</td>\n",
              "      <td>0.0</td>\n",
              "      <td>3.0</td>\n",
              "      <td>0.0</td>\n",
              "      <td>0.0</td>\n",
              "      <td>0.0</td>\n",
              "    </tr>\n",
              "    <tr>\n",
              "      <th>21814</th>\n",
              "      <td>1406471</td>\n",
              "      <td>14</td>\n",
              "      <td>2</td>\n",
              "      <td>1999</td>\n",
              "      <td>1.0</td>\n",
              "      <td>male</td>\n",
              "      <td>165.0</td>\n",
              "      <td>26.0</td>\n",
              "      <td>17.0</td>\n",
              "      <td>3.0</td>\n",
              "      <td>1.0</td>\n",
              "      <td>3.0</td>\n",
              "      <td>1.0</td>\n",
              "      <td>0.0</td>\n",
              "      <td>0.0</td>\n",
              "    </tr>\n",
              "    <tr>\n",
              "      <th>21815</th>\n",
              "      <td>1340621</td>\n",
              "      <td>27</td>\n",
              "      <td>13</td>\n",
              "      <td>198</td>\n",
              "      <td>NaN</td>\n",
              "      <td>NaN</td>\n",
              "      <td>NaN</td>\n",
              "      <td>NaN</td>\n",
              "      <td>NaN</td>\n",
              "      <td>NaN</td>\n",
              "      <td>NaN</td>\n",
              "      <td>NaN</td>\n",
              "      <td>NaN</td>\n",
              "      <td>NaN</td>\n",
              "      <td>NaN</td>\n",
              "    </tr>\n",
              "  </tbody>\n",
              "</table>\n",
              "<p>21816 rows × 15 columns</p>\n",
              "</div>"
            ],
            "text/plain": [
              "        userid  age  ...  www_likes  www_likes_received\n",
              "0      2094382   14  ...        0.0                 0.0\n",
              "1      1192601   14  ...        0.0                 0.0\n",
              "2      2083884   14  ...        0.0                 0.0\n",
              "3      1203168   14  ...        0.0                 0.0\n",
              "4      1733186   14  ...        0.0                 0.0\n",
              "...        ...  ...  ...        ...                 ...\n",
              "21811  1784698   50  ...        0.0                 0.0\n",
              "21812  1980139   61  ...        0.0                 0.0\n",
              "21813  1728067   67  ...        0.0                 0.0\n",
              "21814  1406471   14  ...        0.0                 0.0\n",
              "21815  1340621   27  ...        NaN                 NaN\n",
              "\n",
              "[21816 rows x 15 columns]"
            ]
          },
          "metadata": {
            "tags": []
          },
          "execution_count": 3
        }
      ]
    },
    {
      "cell_type": "code",
      "metadata": {
        "colab": {
          "base_uri": "https://localhost:8080/"
        },
        "id": "5p9h0lSpo3iw",
        "outputId": "8dceac52-a193-4588-f63c-6292a4c06df5"
      },
      "source": [
        "data.shape"
      ],
      "execution_count": null,
      "outputs": [
        {
          "output_type": "execute_result",
          "data": {
            "text/plain": [
              "(99003, 15)"
            ]
          },
          "metadata": {
            "tags": []
          },
          "execution_count": 35
        }
      ]
    },
    {
      "cell_type": "markdown",
      "metadata": {
        "id": "ba-fxRkMq_WP"
      },
      "source": [
        "##<b>Handling the missing values</b>"
      ]
    },
    {
      "cell_type": "code",
      "metadata": {
        "colab": {
          "base_uri": "https://localhost:8080/"
        },
        "id": "hJCiR90jnYDv",
        "outputId": "bc552581-bcd5-4380-de2f-8b9bb8564077"
      },
      "source": [
        "data.isnull().sum()"
      ],
      "execution_count": null,
      "outputs": [
        {
          "output_type": "execute_result",
          "data": {
            "text/plain": [
              "userid                    0\n",
              "age                       0\n",
              "dob_day                   0\n",
              "dob_year                  0\n",
              "dob_month                 1\n",
              "gender                   29\n",
              "tenure                    1\n",
              "friend_count              1\n",
              "friendships_initiated     1\n",
              "likes                     1\n",
              "likes_received            1\n",
              "mobile_likes              1\n",
              "mobile_likes_received     1\n",
              "www_likes                 1\n",
              "www_likes_received        1\n",
              "dtype: int64"
            ]
          },
          "metadata": {
            "tags": []
          },
          "execution_count": 4
        }
      ]
    },
    {
      "cell_type": "markdown",
      "metadata": {
        "id": "NtYsnUpbojyI"
      },
      "source": [
        "We have the 175 null values in the gender column and 2 null values in the tenure column. We have 99003 records with 15 attributes. So, by droping the 177 null values will not effect the pattern. So, I am dropping the null values in the present data set. "
      ]
    },
    {
      "cell_type": "code",
      "metadata": {
        "colab": {
          "base_uri": "https://localhost:8080/"
        },
        "id": "_RQj_CTlpbu4",
        "outputId": "934dc3a7-d7a4-4d78-9c0e-944bf8d25ad3"
      },
      "source": [
        "data=data.dropna()\n",
        "data.isnull().sum()"
      ],
      "execution_count": null,
      "outputs": [
        {
          "output_type": "execute_result",
          "data": {
            "text/plain": [
              "userid                   0\n",
              "age                      0\n",
              "dob_day                  0\n",
              "dob_year                 0\n",
              "dob_month                0\n",
              "gender                   0\n",
              "tenure                   0\n",
              "friend_count             0\n",
              "friendships_initiated    0\n",
              "likes                    0\n",
              "likes_received           0\n",
              "mobile_likes             0\n",
              "mobile_likes_received    0\n",
              "www_likes                0\n",
              "www_likes_received       0\n",
              "dtype: int64"
            ]
          },
          "metadata": {
            "tags": []
          },
          "execution_count": 5
        }
      ]
    },
    {
      "cell_type": "markdown",
      "metadata": {
        "id": "BlrSdB3CpfUG"
      },
      "source": [
        "After dropping the values there are no null values. "
      ]
    },
    {
      "cell_type": "code",
      "metadata": {
        "colab": {
          "base_uri": "https://localhost:8080/"
        },
        "id": "eLTQqXNAKxmx",
        "outputId": "416b43d1-f691-4e49-abb2-21902733cf63"
      },
      "source": [
        "data.shape"
      ],
      "execution_count": null,
      "outputs": [
        {
          "output_type": "execute_result",
          "data": {
            "text/plain": [
              "(21787, 15)"
            ]
          },
          "metadata": {
            "tags": []
          },
          "execution_count": 6
        }
      ]
    },
    {
      "cell_type": "markdown",
      "metadata": {
        "id": "PtHCvxanqIfc"
      },
      "source": [
        "##<b>Checking the categorical values in the data</b>"
      ]
    },
    {
      "cell_type": "code",
      "metadata": {
        "colab": {
          "base_uri": "https://localhost:8080/"
        },
        "id": "sm28JWg_qPL2",
        "outputId": "4e75884e-19fc-49ab-fd0f-94eb66b2cc1e"
      },
      "source": [
        "categorical=[col for col in data.columns if data[col].dtype=='object']\n",
        "for i,j in enumerate(categorical):\n",
        "    print(\"{0}: {1} has the unique elements:{2}\".format(i+1,j,data[j].unique()))"
      ],
      "execution_count": null,
      "outputs": [
        {
          "output_type": "stream",
          "text": [
            "1: gender has the unique elements:['male' 'female']\n"
          ],
          "name": "stdout"
        }
      ]
    },
    {
      "cell_type": "markdown",
      "metadata": {
        "id": "3zyj_hyWqUTF"
      },
      "source": [
        "So, we have only one categorical column value, in the given data set."
      ]
    },
    {
      "cell_type": "markdown",
      "metadata": {
        "id": "-CnFVJkBqgku"
      },
      "source": [
        "##<b>Adding a column  that will classify people in different age groups<b>"
      ]
    },
    {
      "cell_type": "code",
      "metadata": {
        "colab": {
          "base_uri": "https://localhost:8080/",
          "height": 324
        },
        "id": "Pm-GfhWgqb4p",
        "outputId": "7df0952e-c6a2-4a2f-9181-c93ebe908650"
      },
      "source": [
        "labels=['13-19','20-34','35-49','50-65','over 65']\n",
        "data['age_group']=pd.cut(data.age,bins=[12,19,34,49,65,data.age.max()],labels=labels,include_lowest=True)\n",
        "data.head()"
      ],
      "execution_count": null,
      "outputs": [
        {
          "output_type": "stream",
          "text": [
            "/usr/local/lib/python3.7/dist-packages/ipykernel_launcher.py:2: SettingWithCopyWarning: \n",
            "A value is trying to be set on a copy of a slice from a DataFrame.\n",
            "Try using .loc[row_indexer,col_indexer] = value instead\n",
            "\n",
            "See the caveats in the documentation: https://pandas.pydata.org/pandas-docs/stable/user_guide/indexing.html#returning-a-view-versus-a-copy\n",
            "  \n"
          ],
          "name": "stderr"
        },
        {
          "output_type": "execute_result",
          "data": {
            "text/html": [
              "<div>\n",
              "<style scoped>\n",
              "    .dataframe tbody tr th:only-of-type {\n",
              "        vertical-align: middle;\n",
              "    }\n",
              "\n",
              "    .dataframe tbody tr th {\n",
              "        vertical-align: top;\n",
              "    }\n",
              "\n",
              "    .dataframe thead th {\n",
              "        text-align: right;\n",
              "    }\n",
              "</style>\n",
              "<table border=\"1\" class=\"dataframe\">\n",
              "  <thead>\n",
              "    <tr style=\"text-align: right;\">\n",
              "      <th></th>\n",
              "      <th>userid</th>\n",
              "      <th>age</th>\n",
              "      <th>dob_day</th>\n",
              "      <th>dob_year</th>\n",
              "      <th>dob_month</th>\n",
              "      <th>gender</th>\n",
              "      <th>tenure</th>\n",
              "      <th>friend_count</th>\n",
              "      <th>friendships_initiated</th>\n",
              "      <th>likes</th>\n",
              "      <th>likes_received</th>\n",
              "      <th>mobile_likes</th>\n",
              "      <th>mobile_likes_received</th>\n",
              "      <th>www_likes</th>\n",
              "      <th>www_likes_received</th>\n",
              "      <th>age_group</th>\n",
              "    </tr>\n",
              "  </thead>\n",
              "  <tbody>\n",
              "    <tr>\n",
              "      <th>0</th>\n",
              "      <td>2094382</td>\n",
              "      <td>14</td>\n",
              "      <td>19</td>\n",
              "      <td>1999</td>\n",
              "      <td>11.0</td>\n",
              "      <td>male</td>\n",
              "      <td>266.0</td>\n",
              "      <td>0.0</td>\n",
              "      <td>0.0</td>\n",
              "      <td>0.0</td>\n",
              "      <td>0.0</td>\n",
              "      <td>0.0</td>\n",
              "      <td>0.0</td>\n",
              "      <td>0.0</td>\n",
              "      <td>0.0</td>\n",
              "      <td>13-19</td>\n",
              "    </tr>\n",
              "    <tr>\n",
              "      <th>1</th>\n",
              "      <td>1192601</td>\n",
              "      <td>14</td>\n",
              "      <td>2</td>\n",
              "      <td>1999</td>\n",
              "      <td>11.0</td>\n",
              "      <td>female</td>\n",
              "      <td>6.0</td>\n",
              "      <td>0.0</td>\n",
              "      <td>0.0</td>\n",
              "      <td>0.0</td>\n",
              "      <td>0.0</td>\n",
              "      <td>0.0</td>\n",
              "      <td>0.0</td>\n",
              "      <td>0.0</td>\n",
              "      <td>0.0</td>\n",
              "      <td>13-19</td>\n",
              "    </tr>\n",
              "    <tr>\n",
              "      <th>2</th>\n",
              "      <td>2083884</td>\n",
              "      <td>14</td>\n",
              "      <td>16</td>\n",
              "      <td>1999</td>\n",
              "      <td>11.0</td>\n",
              "      <td>male</td>\n",
              "      <td>13.0</td>\n",
              "      <td>0.0</td>\n",
              "      <td>0.0</td>\n",
              "      <td>0.0</td>\n",
              "      <td>0.0</td>\n",
              "      <td>0.0</td>\n",
              "      <td>0.0</td>\n",
              "      <td>0.0</td>\n",
              "      <td>0.0</td>\n",
              "      <td>13-19</td>\n",
              "    </tr>\n",
              "    <tr>\n",
              "      <th>3</th>\n",
              "      <td>1203168</td>\n",
              "      <td>14</td>\n",
              "      <td>25</td>\n",
              "      <td>1999</td>\n",
              "      <td>12.0</td>\n",
              "      <td>female</td>\n",
              "      <td>93.0</td>\n",
              "      <td>0.0</td>\n",
              "      <td>0.0</td>\n",
              "      <td>0.0</td>\n",
              "      <td>0.0</td>\n",
              "      <td>0.0</td>\n",
              "      <td>0.0</td>\n",
              "      <td>0.0</td>\n",
              "      <td>0.0</td>\n",
              "      <td>13-19</td>\n",
              "    </tr>\n",
              "    <tr>\n",
              "      <th>4</th>\n",
              "      <td>1733186</td>\n",
              "      <td>14</td>\n",
              "      <td>4</td>\n",
              "      <td>1999</td>\n",
              "      <td>12.0</td>\n",
              "      <td>male</td>\n",
              "      <td>82.0</td>\n",
              "      <td>0.0</td>\n",
              "      <td>0.0</td>\n",
              "      <td>0.0</td>\n",
              "      <td>0.0</td>\n",
              "      <td>0.0</td>\n",
              "      <td>0.0</td>\n",
              "      <td>0.0</td>\n",
              "      <td>0.0</td>\n",
              "      <td>13-19</td>\n",
              "    </tr>\n",
              "  </tbody>\n",
              "</table>\n",
              "</div>"
            ],
            "text/plain": [
              "    userid  age  dob_day  ...  www_likes  www_likes_received age_group\n",
              "0  2094382   14       19  ...        0.0                 0.0     13-19\n",
              "1  1192601   14        2  ...        0.0                 0.0     13-19\n",
              "2  2083884   14       16  ...        0.0                 0.0     13-19\n",
              "3  1203168   14       25  ...        0.0                 0.0     13-19\n",
              "4  1733186   14        4  ...        0.0                 0.0     13-19\n",
              "\n",
              "[5 rows x 16 columns]"
            ]
          },
          "metadata": {
            "tags": []
          },
          "execution_count": 8
        }
      ]
    },
    {
      "cell_type": "markdown",
      "metadata": {
        "id": "odLoaI_br4bO"
      },
      "source": [
        "##<b>AGE GROUP CLASSIFICATION</b>"
      ]
    },
    {
      "cell_type": "code",
      "metadata": {
        "colab": {
          "base_uri": "https://localhost:8080/",
          "height": 732
        },
        "id": "l7DKVmWxyTuY",
        "outputId": "7c9100a9-5657-4dd7-aa8f-0b87f0082677"
      },
      "source": [
        "sns.heatmap(data.corr('pearson'),annot=True)"
      ],
      "execution_count": null,
      "outputs": [
        {
          "output_type": "execute_result",
          "data": {
            "text/plain": [
              "<matplotlib.axes._subplots.AxesSubplot at 0x7f612ea650b8>"
            ]
          },
          "metadata": {
            "tags": []
          },
          "execution_count": 19
        },
        {
          "output_type": "display_data",
          "data": {
            "image/png": "[encoded data removed]",
            "text/plain": [
              "<Figure size 1440x720 with 2 Axes>"
            ]
          },
          "metadata": {
            "tags": [],
            "needs_background": "light"
          }
        }
      ]
    },
    {
      "cell_type": "markdown",
      "metadata": {
        "id": "vCV65ueKzNkj"
      },
      "source": [
        "<h3><i>\n",
        "The age is positively related to all kinds of likes. Moreover, we donnot require the userid for predicting the age group bin so we drop the userid column. And for predicting the age group I am even dropping the age attribute. \n",
        "</h3></i>\n"
      ]
    },
    {
      "cell_type": "markdown",
      "metadata": {
        "id": "BBezolews8ku"
      },
      "source": [
        "**AGE** **DISTRIBUTION**"
      ]
    },
    {
      "cell_type": "code",
      "metadata": {
        "colab": {
          "base_uri": "https://localhost:8080/"
        },
        "id": "xQZOx57Osq5B",
        "outputId": "e801cc05-5bd6-437b-ba82-42e15aab1e4b"
      },
      "source": [
        "sns.set()\n",
        "fig,ax=plt.subplots(figsize=(10,8))\n",
        "test=data.groupby(\"age_group\")[\"tenure\"].count()\n",
        "test=test/sum(test)*100\n",
        "ax.bar(test.index,test.values,alpha=0.5)\n",
        "for i in ax.patches:\n",
        "    ax.text(i.get_x()+0.25,i.get_height()+0.2,str(round(i.get_height(),2))+'%')\n",
        "ax.set_xlabel(\"Age\")\n",
        "ax.set_ylabel(\"percentage\")\n",
        "ax.set_title(\"Age Distribution of Facebook Users\",fontsize=15)"
      ],
      "execution_count": null,
      "outputs": [
        {
          "output_type": "execute_result",
          "data": {
            "text/plain": [
              "Text(0.5, 1.0, 'Age Distribution of Facebook Users')"
            ]
          },
          "metadata": {
            "tags": []
          },
          "execution_count": 59
        },
        {
          "output_type": "display_data",
          "data": {
            "image/png": "[encoded data removed]",
            "text/plain": [
              "<Figure size 720x576 with 1 Axes>"
            ]
          },
          "metadata": {
            "tags": []
          }
        }
      ]
    },
    {
      "cell_type": "markdown",
      "metadata": {
        "id": "FAqZAtUbSTJO"
      },
      "source": [
        "The people between the age group 20-30 are more likely to use facebook. The people between the age groups 13-19 are next addicted users of facebook. The people with age 3-65 use facebook at same pace. Very less ratio of people at with age >65 use facebook. "
      ]
    },
    {
      "cell_type": "markdown",
      "metadata": {
        "id": "0W1ZlwFnd0JM"
      },
      "source": [
        "###<b>Filtering the data by removing the unnecessary columns</b>"
      ]
    },
    {
      "cell_type": "code",
      "metadata": {
        "colab": {
          "base_uri": "https://localhost:8080/",
          "height": 217
        },
        "id": "RC-zf7KbTJ3k",
        "outputId": "2fa5f1d4-b6db-4806-dd1a-e407c90a54ae"
      },
      "source": [
        "a_data=data.iloc[:, 3:]\n",
        "a_data.head()"
      ],
      "execution_count": null,
      "outputs": [
        {
          "output_type": "execute_result",
          "data": {
            "text/html": [
              "<div>\n",
              "<style scoped>\n",
              "    .dataframe tbody tr th:only-of-type {\n",
              "        vertical-align: middle;\n",
              "    }\n",
              "\n",
              "    .dataframe tbody tr th {\n",
              "        vertical-align: top;\n",
              "    }\n",
              "\n",
              "    .dataframe thead th {\n",
              "        text-align: right;\n",
              "    }\n",
              "</style>\n",
              "<table border=\"1\" class=\"dataframe\">\n",
              "  <thead>\n",
              "    <tr style=\"text-align: right;\">\n",
              "      <th></th>\n",
              "      <th>dob_year</th>\n",
              "      <th>dob_month</th>\n",
              "      <th>gender</th>\n",
              "      <th>tenure</th>\n",
              "      <th>friend_count</th>\n",
              "      <th>friendships_initiated</th>\n",
              "      <th>likes</th>\n",
              "      <th>likes_received</th>\n",
              "      <th>mobile_likes</th>\n",
              "      <th>mobile_likes_received</th>\n",
              "      <th>www_likes</th>\n",
              "      <th>www_likes_received</th>\n",
              "      <th>age_group</th>\n",
              "    </tr>\n",
              "  </thead>\n",
              "  <tbody>\n",
              "    <tr>\n",
              "      <th>0</th>\n",
              "      <td>1999</td>\n",
              "      <td>11.0</td>\n",
              "      <td>male</td>\n",
              "      <td>266.0</td>\n",
              "      <td>0.0</td>\n",
              "      <td>0.0</td>\n",
              "      <td>0.0</td>\n",
              "      <td>0.0</td>\n",
              "      <td>0.0</td>\n",
              "      <td>0.0</td>\n",
              "      <td>0.0</td>\n",
              "      <td>0.0</td>\n",
              "      <td>13-19</td>\n",
              "    </tr>\n",
              "    <tr>\n",
              "      <th>1</th>\n",
              "      <td>1999</td>\n",
              "      <td>11.0</td>\n",
              "      <td>female</td>\n",
              "      <td>6.0</td>\n",
              "      <td>0.0</td>\n",
              "      <td>0.0</td>\n",
              "      <td>0.0</td>\n",
              "      <td>0.0</td>\n",
              "      <td>0.0</td>\n",
              "      <td>0.0</td>\n",
              "      <td>0.0</td>\n",
              "      <td>0.0</td>\n",
              "      <td>13-19</td>\n",
              "    </tr>\n",
              "    <tr>\n",
              "      <th>2</th>\n",
              "      <td>1999</td>\n",
              "      <td>11.0</td>\n",
              "      <td>male</td>\n",
              "      <td>13.0</td>\n",
              "      <td>0.0</td>\n",
              "      <td>0.0</td>\n",
              "      <td>0.0</td>\n",
              "      <td>0.0</td>\n",
              "      <td>0.0</td>\n",
              "      <td>0.0</td>\n",
              "      <td>0.0</td>\n",
              "      <td>0.0</td>\n",
              "      <td>13-19</td>\n",
              "    </tr>\n",
              "    <tr>\n",
              "      <th>3</th>\n",
              "      <td>1999</td>\n",
              "      <td>12.0</td>\n",
              "      <td>female</td>\n",
              "      <td>93.0</td>\n",
              "      <td>0.0</td>\n",
              "      <td>0.0</td>\n",
              "      <td>0.0</td>\n",
              "      <td>0.0</td>\n",
              "      <td>0.0</td>\n",
              "      <td>0.0</td>\n",
              "      <td>0.0</td>\n",
              "      <td>0.0</td>\n",
              "      <td>13-19</td>\n",
              "    </tr>\n",
              "    <tr>\n",
              "      <th>4</th>\n",
              "      <td>1999</td>\n",
              "      <td>12.0</td>\n",
              "      <td>male</td>\n",
              "      <td>82.0</td>\n",
              "      <td>0.0</td>\n",
              "      <td>0.0</td>\n",
              "      <td>0.0</td>\n",
              "      <td>0.0</td>\n",
              "      <td>0.0</td>\n",
              "      <td>0.0</td>\n",
              "      <td>0.0</td>\n",
              "      <td>0.0</td>\n",
              "      <td>13-19</td>\n",
              "    </tr>\n",
              "  </tbody>\n",
              "</table>\n",
              "</div>"
            ],
            "text/plain": [
              "   dob_year  dob_month  gender  ...  www_likes  www_likes_received  age_group\n",
              "0      1999       11.0    male  ...        0.0                 0.0      13-19\n",
              "1      1999       11.0  female  ...        0.0                 0.0      13-19\n",
              "2      1999       11.0    male  ...        0.0                 0.0      13-19\n",
              "3      1999       12.0  female  ...        0.0                 0.0      13-19\n",
              "4      1999       12.0    male  ...        0.0                 0.0      13-19\n",
              "\n",
              "[5 rows x 13 columns]"
            ]
          },
          "metadata": {
            "tags": []
          },
          "execution_count": 9
        }
      ]
    },
    {
      "cell_type": "markdown",
      "metadata": {
        "id": "BBsQT9QeYkX4"
      },
      "source": [
        "##<h3><b>Splitting the Data to train and test<h3></b>"
      ]
    },
    {
      "cell_type": "code",
      "metadata": {
        "id": "XJwXHO84U-eY"
      },
      "source": [
        "x = a_data.drop(['age_group','gender'], axis=1)\n",
        "y = a_data['age_group']\n",
        "x_train, x_test, y_train, y_test = train_test_split(x, y, test_size=0.3, random_state=0)"
      ],
      "execution_count": null,
      "outputs": []
    },
    {
      "cell_type": "markdown",
      "metadata": {
        "id": "XEus3PbLY1b2"
      },
      "source": [
        "##<B><H2>DECISION TREE:</B><BR>\n",
        "\n",
        "The decision tree is an non parametric and supervised machine learning algorithm. It is used for both classification and regression problems. There is possibility of overfitting"
      ]
    },
    {
      "cell_type": "code",
      "metadata": {
        "colab": {
          "base_uri": "https://localhost:8080/"
        },
        "id": "xHT7fdjwbSxM",
        "outputId": "d19835cd-9879-4e76-b2b8-9af1563cade4"
      },
      "source": [
        "#Fitting the model\n",
        "dt = DecisionTreeClassifier()\n",
        "dt.fit(x_train, y_train)\n",
        "y_pred_dt = dt.predict(x_test)\n",
        "\n",
        "#Confusion Matrix\n",
        "print(confusion_matrix(y_test,y_pred_dt)) \n",
        "\n",
        "#Classification Report\n",
        "print(classification_report(y_test,y_pred_dt))"
      ],
      "execution_count": null,
      "outputs": [
        {
          "output_type": "stream",
          "text": [
            "[[ 6287     0     0     0     0]\n",
            " [    0 11602     0     0     0]\n",
            " [    0     0  4208     0     0]\n",
            " [    0     0     0  4285     0]\n",
            " [    0     0     0     0  3266]]\n",
            "              precision    recall  f1-score   support\n",
            "\n",
            "       13-19       1.00      1.00      1.00      6287\n",
            "       20-34       1.00      1.00      1.00     11602\n",
            "       35-49       1.00      1.00      1.00      4208\n",
            "       50-65       1.00      1.00      1.00      4285\n",
            "     over 65       1.00      1.00      1.00      3266\n",
            "\n",
            "    accuracy                           1.00     29648\n",
            "   macro avg       1.00      1.00      1.00     29648\n",
            "weighted avg       1.00      1.00      1.00     29648\n",
            "\n"
          ],
          "name": "stdout"
        }
      ]
    },
    {
      "cell_type": "markdown",
      "metadata": {
        "id": "y_PpjDXjY9B8"
      },
      "source": [
        "##<B><H2>RANDOM FOREST:</B><BR>\n",
        "\n",
        "The random forest is ensemble learning method which is a  supervised machine learning learning algorithm that can be used to solve both classification and regression problems. Reduce the risk of overfitting"
      ]
    },
    {
      "cell_type": "code",
      "metadata": {
        "colab": {
          "base_uri": "https://localhost:8080/"
        },
        "id": "c-13c_uPcgPl",
        "outputId": "2734cfa2-1803-41f6-9aa1-689da2b7f8d9"
      },
      "source": [
        "#Fitting the model\n",
        "rf = RandomForestClassifier()\n",
        "rf.fit(x_train, y_train)\n",
        "y_pred_rf = rf.predict(x_test)\n",
        "\n",
        "#Confusion Matrix\n",
        "print(confusion_matrix(y_test,y_pred_rf)) \n",
        "\n",
        "#Classification Report\n",
        "print(classification_report(y_test,y_pred_rf))\n",
        "from sklearn.metrics import accuracy_score\n",
        "print('Accuracy' + str(accuracy_score(y_test, y_pred_rf)))"
      ],
      "execution_count": null,
      "outputs": [
        {
          "output_type": "stream",
          "text": [
            "[[ 881    0    0    0    0]\n",
            " [   0 2798    0    0    0]\n",
            " [   0    0 1304    0    0]\n",
            " [   0    0    0 1081    0]\n",
            " [   0    0    0    0  473]]\n",
            "              precision    recall  f1-score   support\n",
            "\n",
            "       13-19       1.00      1.00      1.00       881\n",
            "       20-34       1.00      1.00      1.00      2798\n",
            "       35-49       1.00      1.00      1.00      1304\n",
            "       50-65       1.00      1.00      1.00      1081\n",
            "     over 65       1.00      1.00      1.00       473\n",
            "\n",
            "    accuracy                           1.00      6537\n",
            "   macro avg       1.00      1.00      1.00      6537\n",
            "weighted avg       1.00      1.00      1.00      6537\n",
            "\n",
            "Accuracy1.0\n"
          ],
          "name": "stdout"
        }
      ]
    },
    {
      "cell_type": "markdown",
      "metadata": {
        "id": "0hVH7YSWH_rb"
      },
      "source": [
        "##<B><H2>KNN ALGORITHM:</B><BR>\n",
        "\n",
        "The K-Nearest neighbors algorithm is a simple, supervised machine learning learning algorithm that can be used to solve both classification and regression problems. "
      ]
    },
    {
      "cell_type": "code",
      "metadata": {
        "colab": {
          "base_uri": "https://localhost:8080/"
        },
        "id": "NkSejTYoV0Df",
        "outputId": "5899dd92-b976-42d6-f522-edae04b14ffb"
      },
      "source": [
        "#Fitting the model\n",
        "knn = KNeighborsClassifier()\n",
        "knn.fit(x_train, y_train)\n",
        "y_pred_knn = knn.predict(x_test)\n",
        "\n",
        "#Confusion Matrix\n",
        "print(confusion_matrix(y_test,y_pred_knn)) \n",
        "\n",
        "#Classification Report\n",
        "print(classification_report(y_test,y_pred_knn))"
      ],
      "execution_count": null,
      "outputs": [
        {
          "output_type": "stream",
          "text": [
            "[[3535 2599   79   41   33]\n",
            " [2089 8812  426  206   69]\n",
            " [ 263 1439 1958  501   47]\n",
            " [ 144  518  695 2590  338]\n",
            " [ 149  234  133  828 1922]]\n",
            "              precision    recall  f1-score   support\n",
            "\n",
            "       13-19       0.57      0.56      0.57      6287\n",
            "       20-34       0.65      0.76      0.70     11602\n",
            "       35-49       0.59      0.47      0.52      4208\n",
            "       50-65       0.62      0.60      0.61      4285\n",
            "     over 65       0.80      0.59      0.68      3266\n",
            "\n",
            "    accuracy                           0.63     29648\n",
            "   macro avg       0.65      0.60      0.62     29648\n",
            "weighted avg       0.64      0.63      0.63     29648\n",
            "\n"
          ],
          "name": "stdout"
        }
      ]
    },
    {
      "cell_type": "markdown",
      "metadata": {
        "id": "zdSDhJhmeDG6"
      },
      "source": [
        "##<h3><b>INERENCE:</B><BR>\n",
        "In the given data, I am dropping the columns userid, age, dob, gender because their impact on classifying the individuals into different age groups is less. \n",
        "\n",
        "When I have dropped the dod_year column and built the model, then, KNN was the best classifier than the decision tree and the random forest. But when I have included the dob_year column then the Random forest and the decision tree stood as the best classifier than the KNN algorithm. "
      ]
    }
  ]
}